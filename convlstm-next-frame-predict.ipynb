{
 "cells": [
  {
   "cell_type": "code",
   "execution_count": 1,
   "id": "ab6b71e6",
   "metadata": {
    "_cell_guid": "b1076dfc-b9ad-4769-8c92-a6c4dae69d19",
    "_uuid": "8f2839f25d086af736a60e9eeb907d3b93b6e0e5",
    "execution": {
     "iopub.execute_input": "2023-05-18T13:08:51.371783Z",
     "iopub.status.busy": "2023-05-18T13:08:51.371344Z",
     "iopub.status.idle": "2023-05-18T13:08:51.385014Z",
     "shell.execute_reply": "2023-05-18T13:08:51.384158Z"
    },
    "papermill": {
     "duration": 0.023278,
     "end_time": "2023-05-18T13:08:51.387064",
     "exception": false,
     "start_time": "2023-05-18T13:08:51.363786",
     "status": "completed"
    },
    "tags": []
   },
   "outputs": [],
   "source": [
    "import numpy as np \n",
    "import pandas as pd \n",
    "from PIL import Image, ImageOps\n",
    "import os\n",
    "import matplotlib.pyplot as plt"
   ]
  },
  {
   "cell_type": "code",
   "execution_count": 2,
   "id": "f3211aae",
   "metadata": {
    "execution": {
     "iopub.execute_input": "2023-05-18T13:08:51.395815Z",
     "iopub.status.busy": "2023-05-18T13:08:51.395308Z",
     "iopub.status.idle": "2023-05-18T13:09:03.834482Z",
     "shell.execute_reply": "2023-05-18T13:09:03.833559Z"
    },
    "papermill": {
     "duration": 12.445946,
     "end_time": "2023-05-18T13:09:03.836900",
     "exception": false,
     "start_time": "2023-05-18T13:08:51.390954",
     "status": "completed"
    },
    "tags": []
   },
   "outputs": [],
   "source": [
    "src_path = '/kaggle/input/turkey-precip-img-archive'\n",
    "length = len(os.listdir(src_path))\n",
    "\n",
    "images = []\n",
    "for i in range(length):\n",
    "    img = Image.open(f'{src_path}/img{i}.png')\n",
    "    img=img.crop((0,120,640,360))\n",
    "    img=ImageOps.grayscale(img)\n",
    "    img=img.resize((160,60),Image.Resampling.LANCZOS)\n",
    "    img=np.array(img)/255\n",
    "    img=img.reshape(60,160,1)\n",
    "    images.append(img) "
   ]
  },
  {
   "cell_type": "code",
   "execution_count": 3,
   "id": "8ce06327",
   "metadata": {
    "execution": {
     "iopub.execute_input": "2023-05-18T13:09:03.845850Z",
     "iopub.status.busy": "2023-05-18T13:09:03.845558Z",
     "iopub.status.idle": "2023-05-18T13:09:03.853054Z",
     "shell.execute_reply": "2023-05-18T13:09:03.852143Z"
    },
    "papermill": {
     "duration": 0.01403,
     "end_time": "2023-05-18T13:09:03.854983",
     "exception": false,
     "start_time": "2023-05-18T13:09:03.840953",
     "status": "completed"
    },
    "tags": []
   },
   "outputs": [],
   "source": [
    "def train_test(images,step_size,start,stop):\n",
    "    seqx=[]\n",
    "    seqy=[]\n",
    "    x=[]\n",
    "    y=[]\n",
    "    \n",
    "    sample_size=stop-start\n",
    "    \n",
    "    for i in range(start,stop):\n",
    "        endx=i+step_size\n",
    "        endy=i+step_size*2\n",
    "        \n",
    "        seqx.append(images[i:endx])\n",
    "        seqy.append(images[endx:endy])\n",
    "\n",
    "        x.append(np.array(seqx))\n",
    "        y.append(np.array(seqy))\n",
    "        \n",
    "        seqx.clear()\n",
    "        seqy.clear()\n",
    "\n",
    "    return np.array(x).reshape(sample_size,step_size, 60, 160, 1),np.array(y).reshape(sample_size,step_size,60, 160, 1)"
   ]
  },
  {
   "cell_type": "code",
   "execution_count": 4,
   "id": "9519ddc7",
   "metadata": {
    "execution": {
     "iopub.execute_input": "2023-05-18T13:09:03.863256Z",
     "iopub.status.busy": "2023-05-18T13:09:03.862996Z",
     "iopub.status.idle": "2023-05-18T13:09:13.859799Z",
     "shell.execute_reply": "2023-05-18T13:09:13.858648Z"
    },
    "papermill": {
     "duration": 10.00364,
     "end_time": "2023-05-18T13:09:13.862173",
     "exception": false,
     "start_time": "2023-05-18T13:09:03.858533",
     "status": "completed"
    },
    "tags": []
   },
   "outputs": [
    {
     "name": "stderr",
     "output_type": "stream",
     "text": [
      "/opt/conda/lib/python3.10/site-packages/scipy/__init__.py:146: UserWarning: A NumPy version >=1.16.5 and <1.23.0 is required for this version of SciPy (detected version 1.23.5\n",
      "  warnings.warn(f\"A NumPy version >={np_minversion} and <{np_maxversion}\"\n"
     ]
    }
   ],
   "source": [
    "step_size = 3\n",
    "\n",
    "import tensorflow as tf\n",
    "with tf.device('/GPU:0'):\n",
    "    xtrain,ytrain = train_test(images,step_size,0,500)"
   ]
  },
  {
   "cell_type": "code",
   "execution_count": 5,
   "id": "10a54116",
   "metadata": {
    "execution": {
     "iopub.execute_input": "2023-05-18T13:09:13.872722Z",
     "iopub.status.busy": "2023-05-18T13:09:13.870874Z",
     "iopub.status.idle": "2023-05-18T13:09:13.965218Z",
     "shell.execute_reply": "2023-05-18T13:09:13.964072Z"
    },
    "papermill": {
     "duration": 0.101377,
     "end_time": "2023-05-18T13:09:13.967436",
     "exception": false,
     "start_time": "2023-05-18T13:09:13.866059",
     "status": "completed"
    },
    "tags": []
   },
   "outputs": [
    {
     "name": "stdout",
     "output_type": "stream",
     "text": [
      "train: x(500, 3, 60, 160, 1),y(500, 3, 60, 160, 1)  test: x(100, 3, 60, 160, 1),y:(100, 3, 60, 160, 1)\n"
     ]
    }
   ],
   "source": [
    "xtest,ytest = train_test(images,step_size,500,600)\n",
    "xval,yval = train_test(images,step_size,600,700)\n",
    "print(f'train: x{xtrain.shape},y{ytrain.shape}  test: x{xtest.shape},y:{ytest.shape}')"
   ]
  },
  {
   "cell_type": "code",
   "execution_count": 6,
   "id": "77d8fd0a",
   "metadata": {
    "execution": {
     "iopub.execute_input": "2023-05-18T13:09:13.976690Z",
     "iopub.status.busy": "2023-05-18T13:09:13.976381Z",
     "iopub.status.idle": "2023-05-18T13:09:13.983933Z",
     "shell.execute_reply": "2023-05-18T13:09:13.983041Z"
    },
    "papermill": {
     "duration": 0.014314,
     "end_time": "2023-05-18T13:09:13.985891",
     "exception": false,
     "start_time": "2023-05-18T13:09:13.971577",
     "status": "completed"
    },
    "tags": []
   },
   "outputs": [],
   "source": [
    "from tensorflow.keras import Sequential\n",
    "from tensorflow.keras.layers import ConvLSTM2D,BatchNormalization,Conv3D\n",
    "from tensorflow.keras.optimizers import Adam\n",
    "from tensorflow.keras.callbacks import EarlyStopping,ReduceLROnPlateau"
   ]
  },
  {
   "cell_type": "code",
   "execution_count": 7,
   "id": "0ffc6e52",
   "metadata": {
    "execution": {
     "iopub.execute_input": "2023-05-18T13:09:13.994519Z",
     "iopub.status.busy": "2023-05-18T13:09:13.994220Z",
     "iopub.status.idle": "2023-05-18T13:09:13.999940Z",
     "shell.execute_reply": "2023-05-18T13:09:13.998955Z"
    },
    "papermill": {
     "duration": 0.012382,
     "end_time": "2023-05-18T13:09:14.002111",
     "exception": false,
     "start_time": "2023-05-18T13:09:13.989729",
     "status": "completed"
    },
    "tags": []
   },
   "outputs": [
    {
     "name": "stdout",
     "output_type": "stream",
     "text": [
      "--> Checking for physical Tensorflow devices\n",
      ": /physical_device:CPU:0\n",
      ": /physical_device:GPU:0\n"
     ]
    }
   ],
   "source": [
    "print(\"--> Checking for physical Tensorflow devices\")\n",
    "for device in tf.config.list_physical_devices():\n",
    "    print(\": {}\".format(device.name))"
   ]
  },
  {
   "cell_type": "code",
   "execution_count": 8,
   "id": "0c5b0d12",
   "metadata": {
    "execution": {
     "iopub.execute_input": "2023-05-18T13:09:14.012101Z",
     "iopub.status.busy": "2023-05-18T13:09:14.010591Z",
     "iopub.status.idle": "2023-05-18T13:09:15.003838Z",
     "shell.execute_reply": "2023-05-18T13:09:15.003062Z"
    },
    "papermill": {
     "duration": 1.016599,
     "end_time": "2023-05-18T13:09:15.022319",
     "exception": false,
     "start_time": "2023-05-18T13:09:14.005720",
     "status": "completed"
    },
    "tags": []
   },
   "outputs": [
    {
     "name": "stdout",
     "output_type": "stream",
     "text": [
      "Model: \"sequential\"\n",
      "_________________________________________________________________\n",
      " Layer (type)                Output Shape              Param #   \n",
      "=================================================================\n",
      " conv_lstm2d (ConvLSTM2D)    (None, 3, 60, 160, 40)    59200     \n",
      "                                                                 \n",
      " batch_normalization (BatchN  (None, 3, 60, 160, 40)   160       \n",
      " ormalization)                                                   \n",
      "                                                                 \n",
      " conv_lstm2d_1 (ConvLSTM2D)  (None, 3, 60, 160, 40)    115360    \n",
      "                                                                 \n",
      " batch_normalization_1 (Batc  (None, 3, 60, 160, 40)   160       \n",
      " hNormalization)                                                 \n",
      "                                                                 \n",
      " conv_lstm2d_2 (ConvLSTM2D)  (None, 3, 60, 160, 40)    115360    \n",
      "                                                                 \n",
      " batch_normalization_2 (Batc  (None, 3, 60, 160, 40)   160       \n",
      " hNormalization)                                                 \n",
      "                                                                 \n",
      " conv_lstm2d_3 (ConvLSTM2D)  (None, 3, 60, 160, 40)    115360    \n",
      "                                                                 \n",
      " conv3d (Conv3D)             (None, 3, 60, 160, 1)     1081      \n",
      "                                                                 \n",
      "=================================================================\n",
      "Total params: 406,841\n",
      "Trainable params: 406,601\n",
      "Non-trainable params: 240\n",
      "_________________________________________________________________\n"
     ]
    }
   ],
   "source": [
    "def model():\n",
    "    seq = Sequential()\n",
    "\n",
    "    seq.add(ConvLSTM2D(filters=40, kernel_size=(3, 3),\n",
    "                       input_shape=(step_size, 60, 160, 1),\n",
    "                       padding='same', return_sequences=True,activation=\"relu\"))\n",
    "    seq.add(BatchNormalization())\n",
    "\n",
    "    seq.add(ConvLSTM2D(filters=40, kernel_size=(3, 3),\n",
    "                       padding='same', return_sequences=True,activation=\"relu\"))\n",
    "    seq.add(BatchNormalization())\n",
    "\n",
    "    seq.add(ConvLSTM2D(filters=40, kernel_size=(3, 3),\n",
    "                       padding='same', return_sequences=True,activation=\"relu\"))\n",
    "    seq.add(BatchNormalization())\n",
    "    \n",
    "    seq.add(ConvLSTM2D(filters=40, kernel_size=(3, 3),\n",
    "                       padding='same', return_sequences=True,activation=\"relu\"))\n",
    "    #seq.add(BatchNormalization())\n",
    "\n",
    "    seq.add(Conv3D(filters=1, kernel_size=(3, 3, 3),\n",
    "                   activation='sigmoid',\n",
    "                   padding='same', data_format='channels_last'))\n",
    "    seq.compile(loss='mae', optimizer=Adam())\n",
    "    \n",
    "    return seq\n",
    "\n",
    "m=model()\n",
    "m.summary()"
   ]
  },
  {
   "cell_type": "code",
   "execution_count": 9,
   "id": "516590a3",
   "metadata": {
    "execution": {
     "iopub.execute_input": "2023-05-18T13:09:15.035479Z",
     "iopub.status.busy": "2023-05-18T13:09:15.035151Z",
     "iopub.status.idle": "2023-05-18T13:15:43.968355Z",
     "shell.execute_reply": "2023-05-18T13:15:43.967335Z"
    },
    "papermill": {
     "duration": 388.942577,
     "end_time": "2023-05-18T13:15:43.970823",
     "exception": false,
     "start_time": "2023-05-18T13:09:15.028246",
     "status": "completed"
    },
    "tags": []
   },
   "outputs": [
    {
     "name": "stdout",
     "output_type": "stream",
     "text": [
      "Epoch 1/20\n"
     ]
    },
    {
     "name": "stderr",
     "output_type": "stream",
     "text": [
      "2023-05-18 13:09:21.203937: E tensorflow/core/grappler/optimizers/meta_optimizer.cc:954] layout failed: INVALID_ARGUMENT: MutableGraphView::SortTopologically error: detected edge(s) creating cycle(s) {'Func/gradient_tape/sequential/conv_lstm2d_3/while/sequential/conv_lstm2d_3/while_grad/body/_743/input/_2035' -> 'gradient_tape/sequential/conv_lstm2d_3/while/sequential/conv_lstm2d_3/while_grad/body/_743/gradient_tape/sequential/conv_lstm2d_3/while/gradients/AddN', 'Func/gradient_tape/sequential/conv_lstm2d_2/while/sequential/conv_lstm2d_2/while_grad/body/_938/input/_2154' -> 'gradient_tape/sequential/conv_lstm2d_2/while/sequential/conv_lstm2d_2/while_grad/body/_938/gradient_tape/sequential/conv_lstm2d_2/while/gradients/AddN', 'Func/gradient_tape/sequential/conv_lstm2d_1/while/sequential/conv_lstm2d_1/while_grad/body/_1133/input/_2273' -> 'gradient_tape/sequential/conv_lstm2d_1/while/sequential/conv_lstm2d_1/while_grad/body/_1133/gradient_tape/sequential/conv_lstm2d_1/while/gradients/AddN', 'Func/gradient_tape/sequential/conv_lstm2d/while/sequential/conv_lstm2d/while_grad/body/_1328/input/_2389' -> 'gradient_tape/sequential/conv_lstm2d/while/sequential/conv_lstm2d/while_grad/body/_1328/gradient_tape/sequential/conv_lstm2d/while/gradients/AddN', 'sequential/conv_lstm2d_3/while/body/_555/sequential/conv_lstm2d_3/while/clip_by_value' -> 'sequential/conv_lstm2d_3/while/body/_555/sequential/conv_lstm2d_3/while/mul_3', 'sequential/conv_lstm2d_3/while/body/_555/sequential/conv_lstm2d_3/while/mul_2' -> 'sequential/conv_lstm2d_3/while/body/_555/sequential/conv_lstm2d_3/while/add_5', 'sequential/conv_lstm2d_3/while/body/_555/sequential/conv_lstm2d_3/while/convolution_6' -> 'sequential/conv_lstm2d_3/while/body/_555/sequential/conv_lstm2d_3/while/add_4', 'sequential/conv_lstm2d_3/while/body/_555/sequential/conv_lstm2d_3/while/clip_by_value_2' -> 'sequential/conv_lstm2d_3/while/body/_555/sequential/conv_lstm2d_3/while/mul_5', 'sequential/conv_lstm2d_2/while/body/_367/sequential/conv_lstm2d_2/while/mul_2' -> 'sequential/conv_lstm2d_2/while/body/_367/sequential/conv_lstm2d_2/while/add_5', 'sequential/conv_lstm2d_2/while/body/_367/sequential/conv_lstm2d_2/while/clip_by_value_2' -> 'sequential/conv_lstm2d_2/while/body/_367/sequential/conv_lstm2d_2/while/mul_5', 'sequential/conv_lstm2d_2/while/body/_367/sequential/conv_lstm2d_2/while/convolution_6' -> 'sequential/conv_lstm2d_2/while/body/_367/sequential/conv_lstm2d_2/while/add_4', 'sequential/conv_lstm2d_2/while/body/_367/sequential/conv_lstm2d_2/while/clip_by_value' -> 'sequential/conv_lstm2d_2/while/body/_367/sequential/conv_lstm2d_2/while/mul_3', 'sequential/conv_lstm2d_1/while/body/_179/sequential/conv_lstm2d_1/while/mul_2' -> 'sequential/conv_lstm2d_1/while/body/_179/sequential/conv_lstm2d_1/while/add_5', 'sequential/conv_lstm2d_1/while/body/_179/sequential/conv_lstm2d_1/while/clip_by_value_2' -> 'sequential/conv_lstm2d_1/while/body/_179/sequential/conv_lstm2d_1/while/mul_5', 'sequential/conv_lstm2d_1/while/body/_179/sequential/conv_lstm2d_1/while/convolution_6' -> 'sequential/conv_lstm2d_1/while/body/_179/sequential/conv_lstm2d_1/while/add_4', 'sequential/conv_lstm2d_1/while/body/_179/sequential/conv_lstm2d_1/while/clip_by_value' -> 'sequential/conv_lstm2d_1/while/body/_179/sequential/conv_lstm2d_1/while/mul_3'}.\n"
     ]
    },
    {
     "name": "stdout",
     "output_type": "stream",
     "text": [
      "100/100 [==============================] - ETA: 0s - loss: 0.0991"
     ]
    },
    {
     "name": "stderr",
     "output_type": "stream",
     "text": [
      "2023-05-18 13:09:46.536790: E tensorflow/core/grappler/optimizers/meta_optimizer.cc:954] layout failed: INVALID_ARGUMENT: MutableGraphView::SortTopologically error: detected edge(s) creating cycle(s) {'sequential/conv_lstm2d_3/while/body/_145/sequential/conv_lstm2d_3/while/mul_2' -> 'sequential/conv_lstm2d_3/while/body/_145/sequential/conv_lstm2d_3/while/add_5', 'sequential/conv_lstm2d_3/while/body/_145/sequential/conv_lstm2d_3/while/Relu_1' -> 'sequential/conv_lstm2d_3/while/body/_145/sequential/conv_lstm2d_3/while/mul_5', 'sequential/conv_lstm2d_3/while/body/_145/sequential/conv_lstm2d_3/while/convolution_7' -> 'sequential/conv_lstm2d_3/while/body/_145/sequential/conv_lstm2d_3/while/add_6', 'sequential/conv_lstm2d_2/while/body/_97/sequential/conv_lstm2d_2/while/mul_2' -> 'sequential/conv_lstm2d_2/while/body/_97/sequential/conv_lstm2d_2/while/add_5', 'sequential/conv_lstm2d_2/while/body/_97/sequential/conv_lstm2d_2/while/clip_by_value_2' -> 'sequential/conv_lstm2d_2/while/body/_97/sequential/conv_lstm2d_2/while/mul_5', 'sequential/conv_lstm2d_2/while/body/_97/sequential/conv_lstm2d_2/while/clip_by_value' -> 'sequential/conv_lstm2d_2/while/body/_97/sequential/conv_lstm2d_2/while/mul_3', 'sequential/conv_lstm2d_2/while/body/_97/sequential/conv_lstm2d_2/while/convolution_6' -> 'sequential/conv_lstm2d_2/while/body/_97/sequential/conv_lstm2d_2/while/add_4', 'sequential/conv_lstm2d_1/while/body/_49/sequential/conv_lstm2d_1/while/mul_2' -> 'sequential/conv_lstm2d_1/while/body/_49/sequential/conv_lstm2d_1/while/add_5', 'sequential/conv_lstm2d_1/while/body/_49/sequential/conv_lstm2d_1/while/clip_by_value' -> 'sequential/conv_lstm2d_1/while/body/_49/sequential/conv_lstm2d_1/while/mul_3', 'sequential/conv_lstm2d_1/while/body/_49/sequential/conv_lstm2d_1/while/convolution_6' -> 'sequential/conv_lstm2d_1/while/body/_49/sequential/conv_lstm2d_1/while/add_4', 'sequential/conv_lstm2d_1/while/body/_49/sequential/conv_lstm2d_1/while/clip_by_value_2' -> 'sequential/conv_lstm2d_1/while/body/_49/sequential/conv_lstm2d_1/while/mul_5'}.\n"
     ]
    },
    {
     "name": "stdout",
     "output_type": "stream",
     "text": [
      "100/100 [==============================] - 32s 181ms/step - loss: 0.0991 - val_loss: 0.0717\n",
      "Epoch 2/20\n",
      "100/100 [==============================] - 17s 171ms/step - loss: 0.0795 - val_loss: 0.0532\n",
      "Epoch 3/20\n",
      "100/100 [==============================] - 17s 168ms/step - loss: 0.0785 - val_loss: 0.0653\n",
      "Epoch 4/20\n",
      "100/100 [==============================] - 17s 168ms/step - loss: 0.0780 - val_loss: 0.1711\n",
      "Epoch 5/20\n",
      "100/100 [==============================] - 17s 171ms/step - loss: 0.0776 - val_loss: 0.1259\n",
      "Epoch 6/20\n",
      "100/100 [==============================] - 17s 171ms/step - loss: 0.0768 - val_loss: 0.0701\n",
      "Epoch 7/20\n",
      "100/100 [==============================] - 17s 171ms/step - loss: 0.0765 - val_loss: 0.1062\n",
      "Epoch 8/20\n",
      "100/100 [==============================] - 17s 168ms/step - loss: 0.0760 - val_loss: 0.0297\n",
      "Epoch 9/20\n",
      "100/100 [==============================] - 17s 168ms/step - loss: 0.0758 - val_loss: 0.0241\n",
      "Epoch 10/20\n",
      "100/100 [==============================] - 17s 168ms/step - loss: 0.0755 - val_loss: 0.0232\n",
      "Epoch 11/20\n",
      "100/100 [==============================] - 17s 171ms/step - loss: 0.0755 - val_loss: 0.0241\n",
      "Epoch 12/20\n",
      "100/100 [==============================] - 17s 171ms/step - loss: 0.0750 - val_loss: 0.0234\n",
      "Epoch 13/20\n",
      "100/100 [==============================] - 17s 171ms/step - loss: 0.0747 - val_loss: 0.0231\n",
      "Epoch 14/20\n",
      "100/100 [==============================] - 17s 168ms/step - loss: 0.0745 - val_loss: 0.0246\n",
      "Epoch 15/20\n",
      "100/100 [==============================] - 17s 171ms/step - loss: 0.0745 - val_loss: 0.0237\n",
      "Epoch 16/20\n",
      "100/100 [==============================] - 17s 168ms/step - loss: 0.0739 - val_loss: 0.0236\n",
      "Epoch 17/20\n",
      "100/100 [==============================] - 17s 171ms/step - loss: 0.0738 - val_loss: 0.0297\n",
      "Epoch 18/20\n",
      "100/100 [==============================] - 17s 168ms/step - loss: 0.0736 - val_loss: 0.0232\n",
      "Epoch 19/20\n",
      "100/100 [==============================] - 17s 167ms/step - loss: 0.0733 - val_loss: 0.0243\n",
      "Epoch 20/20\n",
      "100/100 [==============================] - 17s 168ms/step - loss: 0.0733 - val_loss: 0.0239\n"
     ]
    }
   ],
   "source": [
    "#early_stopping = EarlyStopping(monitor=\"accuracy\", patience=10)\n",
    "#reduce_lr = ReduceLROnPlateau(monitor=\"accuracy\", patience=5)\n",
    "\n",
    "with tf.device('/GPU:0'):\n",
    "    m.fit(xtrain,ytrain,epochs=20,batch_size=5,\n",
    "    validation_data=(xval, yval))\n",
    "    #callbacks=[early_stopping, reduce_lr])"
   ]
  },
  {
   "cell_type": "code",
   "execution_count": 10,
   "id": "b676d639",
   "metadata": {
    "execution": {
     "iopub.execute_input": "2023-05-18T13:15:44.287463Z",
     "iopub.status.busy": "2023-05-18T13:15:44.287101Z",
     "iopub.status.idle": "2023-05-18T13:15:45.689491Z",
     "shell.execute_reply": "2023-05-18T13:15:45.688569Z"
    },
    "papermill": {
     "duration": 1.56342,
     "end_time": "2023-05-18T13:15:45.691718",
     "exception": false,
     "start_time": "2023-05-18T13:15:44.128298",
     "status": "completed"
    },
    "tags": []
   },
   "outputs": [
    {
     "name": "stdout",
     "output_type": "stream",
     "text": [
      "92\n",
      "1/1 [==============================] - 1s 849ms/step\n"
     ]
    },
    {
     "data": {
      "image/png": "[encoded data removed]",
      "text/plain": [
       "<Figure size 2000x400 with 6 Axes>"
      ]
     },
     "metadata": {},
     "output_type": "display_data"
    }
   ],
   "source": [
    "def predictions(model,xtest,ytest):\n",
    "    choice = np.random.choice(len(xtest))\n",
    "    print(choice)\n",
    "    pre = model.predict(xtest[choice].reshape(1,step_size, 60, 160, 1))\n",
    "    pre=pre*255\n",
    "\n",
    "    fig, axes = plt.subplots(2, 3, figsize=(20, 4))\n",
    "\n",
    "    for time, ax in enumerate(axes[0]):\n",
    "        ax.imshow(np.squeeze(ytest[choice][time]), cmap=\"gray\")\n",
    "        ax.set_title(f\"Ground Truth {time+1}\")\n",
    "        ax.axis(\"off\")\n",
    "\n",
    "    for time, ax in enumerate(axes[1]):\n",
    "        ax.imshow(np.squeeze(pre[0][time]), cmap=\"gray\")\n",
    "        ax.set_title(f\"Prediction {time+1}\")\n",
    "        ax.axis(\"off\")\n",
    "\n",
    "predictions(m,xtest,ytest)"
   ]
  },
  {
   "cell_type": "code",
   "execution_count": null,
   "id": "ced0bde7",
   "metadata": {
    "papermill": {
     "duration": 0.162145,
     "end_time": "2023-05-18T13:15:46.012358",
     "exception": false,
     "start_time": "2023-05-18T13:15:45.850213",
     "status": "completed"
    },
    "tags": []
   },
   "outputs": [],
   "source": []
  }
 ],
 "metadata": {
  "kernelspec": {
   "display_name": "Python 3",
   "language": "python",
   "name": "python3"
  },
  "language_info": {
   "codemirror_mode": {
    "name": "ipython",
    "version": 3
   },
   "file_extension": ".py",
   "mimetype": "text/x-python",
   "name": "python",
   "nbconvert_exporter": "python",
   "pygments_lexer": "ipython3",
   "version": "3.10.10"
  },
  "papermill": {
   "default_parameters": {},
   "duration": 428.961805,
   "end_time": "2023-05-18T13:15:49.547240",
   "environment_variables": {},
   "exception": null,
   "input_path": "__notebook__.ipynb",
   "output_path": "__notebook__.ipynb",
   "parameters": {},
   "start_time": "2023-05-18T13:08:40.585435",
   "version": "2.4.0"
  }
 },
 "nbformat": 4,
 "nbformat_minor": 5
}
